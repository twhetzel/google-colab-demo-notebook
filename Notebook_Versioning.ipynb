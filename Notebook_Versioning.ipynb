{
  "nbformat": 4,
  "nbformat_minor": 0,
  "metadata": {
    "colab": {
      "provenance": [],
      "authorship_tag": "ABX9TyMb6fjciIgarukV7myOrany",
      "include_colab_link": true
    },
    "kernelspec": {
      "name": "python3",
      "display_name": "Python 3"
    },
    "language_info": {
      "name": "python"
    }
  },
  "cells": [
    {
      "cell_type": "markdown",
      "metadata": {
        "id": "view-in-github",
        "colab_type": "text"
      },
      "source": [
        "<a href=\"https://colab.research.google.com/github/twhetzel/google-colab-demo-notebook/blob/main/Notebook_Versioning.ipynb\" target=\"_parent\"><img src=\"https://colab.research.google.com/assets/colab-badge.svg\" alt=\"Open In Colab\"/></a>"
      ]
    },
    {
      "cell_type": "code",
      "execution_count": 1,
      "metadata": {
        "id": "Kad3wKvLEB0V"
      },
      "outputs": [],
      "source": [
        "# Demo Notebook to explore versioning options\n",
        "# The versioning steps are documented in https://docs.google.com/document/d/1HDnnlhU1_lQ5DB0WETZ8UnALphmXcJpcjRrfHS6EfKs/edit?usp=sharing"
      ]
    },
    {
      "cell_type": "code",
      "source": [
        "#Imports\n",
        "import pandas as pd"
      ],
      "metadata": {
        "id": "UNpavz0wETo_"
      },
      "execution_count": 2,
      "outputs": []
    },
    {
      "cell_type": "code",
      "source": [
        "data = {\n",
        "    'A': [1, 2, 3, 4, 5],\n",
        "    'B': ['a', 'b', 'c', 'd', 'e'],\n",
        "    'C': [True, False, True, False, True]\n",
        "}\n",
        "# List of date strings in the format DD/MM/YYYY\n",
        "dates = ['01/01/2022', '15/02/2022', '28/03/2022', '10/04/2022', '22/05/2022']\n",
        "\n",
        "# Convert date strings to datetime objects\n",
        "dates = pd.to_datetime(dates, format='%d/%m/%Y')\n",
        "\n",
        "# Add the date column to the existing DataFrame\n",
        "data['Date'] = dates\n",
        "\n",
        "df = pd.DataFrame(data)\n",
        "print(df)"
      ],
      "metadata": {
        "colab": {
          "base_uri": "https://localhost:8080/"
        },
        "id": "d0QRsIcfEXMB",
        "outputId": "f281a359-505e-4923-d768-b7b0617f9fdd"
      },
      "execution_count": 3,
      "outputs": [
        {
          "output_type": "stream",
          "name": "stdout",
          "text": [
            "   A  B      C       Date\n",
            "0  1  a   True 2022-01-01\n",
            "1  2  b  False 2022-02-15\n",
            "2  3  c   True 2022-03-28\n",
            "3  4  d  False 2022-04-10\n",
            "4  5  e   True 2022-05-22\n"
          ]
        }
      ]
    },
    {
      "cell_type": "code",
      "source": [],
      "metadata": {
        "id": "y4BK6cs2FISh"
      },
      "execution_count": null,
      "outputs": []
    }
  ]
}